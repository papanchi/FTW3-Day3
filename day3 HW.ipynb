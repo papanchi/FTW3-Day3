{
 "cells": [
  {
   "cell_type": "code",
   "execution_count": 1,
   "metadata": {
    "colab": {
     "base_uri": "https://localhost:8080/",
     "height": 34
    },
    "colab_type": "code",
    "executionInfo": {
     "elapsed": 1156,
     "status": "ok",
     "timestamp": 1573397199405,
     "user": {
      "displayName": "Erika Ureta",
      "photoUrl": "",
      "userId": "07319040254597316809"
     },
     "user_tz": -480
    },
    "id": "YmppsU_Sx264",
    "outputId": "b35b870d-0c29-451b-c228-26144668c86a"
   },
   "outputs": [
    {
     "data": {
      "text/plain": [
       "True"
      ]
     },
     "execution_count": 1,
     "metadata": {},
     "output_type": "execute_result"
    }
   ],
   "source": [
    "# PALINDROME CHECKER\n",
    "# FOR LISTS STRINGS INT\n",
    "\n",
    "def isPali(x):\n",
    "    x = str(x)\n",
    "    if x == x[::-1]:\n",
    "        y = True\n",
    "    else:\n",
    "        y = False\n",
    "    return y\n",
    "\n",
    "isPali('racecar')"
   ]
  },
  {
   "cell_type": "code",
   "execution_count": 2,
   "metadata": {
    "colab": {
     "base_uri": "https://localhost:8080/",
     "height": 34
    },
    "colab_type": "code",
    "executionInfo": {
     "elapsed": 1116,
     "status": "ok",
     "timestamp": 1573397229455,
     "user": {
      "displayName": "Erika Ureta",
      "photoUrl": "",
      "userId": "07319040254597316809"
     },
     "user_tz": -480
    },
    "id": "IBlGK92ByCP-",
    "outputId": "9670d61f-89aa-4df7-e7bc-6f653b3d7b9f"
   },
   "outputs": [
    {
     "data": {
      "text/plain": [
       "True"
      ]
     },
     "execution_count": 2,
     "metadata": {},
     "output_type": "execute_result"
    }
   ],
   "source": [
    "# PRIME NUMBER CHECKER\n",
    "\n",
    "def isPrime(x):\n",
    "    for i in range(2,x):\n",
    "        if x%i == 0:\n",
    "            p = False\n",
    "            break\n",
    "        else:\n",
    "            p = True\n",
    "    return p\n",
    "    \n",
    "isPrime(6857)"
   ]
  },
  {
   "cell_type": "code",
   "execution_count": 24,
   "metadata": {
    "colab": {
     "base_uri": "https://localhost:8080/",
     "height": 34
    },
    "colab_type": "code",
    "executionInfo": {
     "elapsed": 1105,
     "status": "ok",
     "timestamp": 1573397271696,
     "user": {
      "displayName": "Erika Ureta",
      "photoUrl": "",
      "userId": "07319040254597316809"
     },
     "user_tz": -480
    },
    "id": "vZmXwbC-yIzK",
    "outputId": "f2628f60-e418-42ca-bed8-d654e4f1bcfe"
   },
   "outputs": [
    {
     "data": {
      "text/plain": [
       "906609"
      ]
     },
     "execution_count": 24,
     "metadata": {},
     "output_type": "execute_result"
    }
   ],
   "source": [
    "# PROBLEM 4 (PROJECT EULER)\n",
    "# A palindromic number reads the same both ways. \n",
    "# The largest palindrome made from the product of two 2-digit numbers is 9009 = 91 × 99.\n",
    "# Find the largest palindrome made from the product of two 3-digit numbers.\n",
    "\n",
    "def isPali(x):\n",
    "    x = str(x)\n",
    "    if x == x[::-1]:\n",
    "        y = True\n",
    "    else:\n",
    "        y = False\n",
    "    return y\n",
    "\n",
    "l=[]\n",
    "for a in range(100,1000):\n",
    "    for b in range(100,1000):\n",
    "        if isPali(a*b) == True:\n",
    "            l.append(a*b)\n",
    "max(l)    "
   ]
  },
  {
   "cell_type": "code",
   "execution_count": 26,
   "metadata": {
    "colab": {},
    "colab_type": "code",
    "id": "h-jSE3KmyYM0"
   },
   "outputs": [
    {
     "name": "stdout",
     "output_type": "stream",
     "text": [
      "6857\n"
     ]
    }
   ],
   "source": [
    "# PROBLEM  3 (PROJECT EULER)\n",
    "# The prime factors of 13195 are 5, 7, 13 and 29.\n",
    "# What is the largest prime factor of the number 600851475143 ?\n",
    "\n",
    "def prob3(p):\n",
    "    for x in range(2,p):\n",
    "        if p-x == 0:\n",
    "            break\n",
    "        while p%x == 0:\n",
    "              while p%x == 0:\n",
    "                  #print(p,x)\n",
    "                  p = p/x\n",
    "    return(x)\n",
    "\n",
    "#print(prob3(13195))\n",
    "print(prob3(600851475143))"
   ]
  },
  {
   "cell_type": "markdown",
   "metadata": {
    "colab_type": "text",
    "id": "vMU_7ur_0Azp"
   },
   "source": [
    "QUESTION 11\n",
    "\n",
    "Suppose the heights of a population of 3,000 adult penguins are approximately normally distributed with a mean of 65 centimeters and a standard deviation of 5 centimeters.\n",
    "\n",
    "1.   Approximately how many of the adult penguins are between 65 centimeters and 75 centimeters tall?\n",
    "\n",
    "```\n",
    "m - 2d = 55\n",
    "m - d  = 60\n",
    "m      = 65\n",
    "m + d  = 70\n",
    "m + 2d = 75\n",
    "\n",
    "3000(0.34 + 0.14) = 1,440\n",
    "```\n",
    ">**ANS: 1,440 PENGUINS**\n",
    "\n",
    "2.   If an adult penguin is chosen at random from the population, approximately what is the probability that the penguin's heigh will be less than 60 centimeters? Give your answer to the nearest 0.05.\n",
    "\n",
    "```\n",
    "0.02 + 0.14 = 0.16\n",
    "~= 0.15\n",
    "```\n",
    ">**ANS: 0.15**\n",
    "\n",
    "\n",
    "\n",
    "\n"
   ]
  }
 ],
 "metadata": {
  "colab": {
   "name": "day3 HW",
   "provenance": []
  },
  "kernelspec": {
   "display_name": "Python 3",
   "language": "python",
   "name": "python3"
  },
  "language_info": {
   "codemirror_mode": {
    "name": "ipython",
    "version": 3
   },
   "file_extension": ".py",
   "mimetype": "text/x-python",
   "name": "python",
   "nbconvert_exporter": "python",
   "pygments_lexer": "ipython3",
   "version": "3.7.3"
  }
 },
 "nbformat": 4,
 "nbformat_minor": 1
}
